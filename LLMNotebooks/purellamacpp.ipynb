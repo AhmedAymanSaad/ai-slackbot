{
 "cells": [
  {
   "cell_type": "code",
   "execution_count": 10,
   "metadata": {},
   "outputs": [
    {
     "name": "stderr",
     "output_type": "stream",
     "text": [
      "llama.cpp: loading model from /home/ahmedaymansaad/.cache/huggingface/hub/models--localmodels--Llama-2-7B-Chat-ggml/snapshots/07c579e9353aa77cf730a1bc5196c796e41c446c/llama-2-7b-chat.ggmlv3.q2_K.bin\n",
      "llama_model_load_internal: format     = ggjt v3 (latest)\n",
      "llama_model_load_internal: n_vocab    = 32000\n",
      "llama_model_load_internal: n_ctx      = 512\n",
      "llama_model_load_internal: n_embd     = 4096\n",
      "llama_model_load_internal: n_mult     = 256\n",
      "llama_model_load_internal: n_head     = 32\n",
      "llama_model_load_internal: n_head_kv  = 32\n",
      "llama_model_load_internal: n_layer    = 32\n",
      "llama_model_load_internal: n_rot      = 128\n",
      "llama_model_load_internal: n_gqa      = 1\n",
      "llama_model_load_internal: rnorm_eps  = 5.0e-06\n",
      "llama_model_load_internal: n_ff       = 11008\n",
      "llama_model_load_internal: freq_base  = 10000.0\n",
      "llama_model_load_internal: freq_scale = 1\n",
      "llama_model_load_internal: ftype      = 10 (mostly Q2_K)\n",
      "llama_model_load_internal: model size = 7B\n",
      "llama_model_load_internal: ggml ctx size =    0.08 MB\n",
      "llama_model_load_internal: mem required  = 2733.66 MB (+  256.00 MB per state)\n",
      "llama_new_context_with_model: kv self size  =  256.00 MB\n",
      "llama_new_context_with_model: compute buffer total size =   71.84 MB\n",
      "AVX = 1 | AVX2 = 1 | AVX512 = 0 | AVX512_VBMI = 0 | AVX512_VNNI = 0 | FMA = 1 | NEON = 0 | ARM_FMA = 0 | F16C = 1 | FP16_VA = 0 | WASM_SIMD = 0 | BLAS = 0 | SSE3 = 1 | VSX = 0 | \n"
     ]
    }
   ],
   "source": [
    "from llama_cpp import Llama\n",
    "llm = Llama(\n",
    "    model_path='/home/ahmedaymansaad/.cache/huggingface/hub/models--localmodels--Llama-2-7B-Chat-ggml/snapshots/07c579e9353aa77cf730a1bc5196c796e41c446c/llama-2-7b-chat.ggmlv3.q2_K.bin',\n",
    "    low_vram=True,\n",
    "    )\n"
   ]
  },
  {
   "cell_type": "code",
   "execution_count": 15,
   "metadata": {},
   "outputs": [
    {
     "name": "stderr",
     "output_type": "stream",
     "text": [
      "Llama.generate: prefix-match hit\n"
     ]
    },
    {
     "name": "stdout",
     "output_type": "stream",
     "text": [
      "{'id': 'cmpl-a17eb313-4f2c-4a8e-933f-4e51c516543f', 'object': 'text_completion', 'created': 1692560964, 'model': '/home/ahmedaymansaad/.cache/huggingface/hub/models--localmodels--Llama-2-7B-Chat-ggml/snapshots/07c579e9353aa77cf730a1bc5196c796e41c446c/llama-2-7b-chat.ggmlv3.q2_K.bin', 'choices': [{'text': 'Q: Name the planets in the solar system? A: 1. Venus - The second planet from the sun, known for its thick atmosphere and scorching temperatures. 2. Earth - The third planet from the sun, home to diverse life forms and a variety of ecosystems. 3. Mars - The fourth planet from the sun, a rocky world with a thin atmosphere and potential for supporting life. 4. Jupiter - The largest planet in our solar system, a gas giant with a massive storm pattern and numerous moons. 5. Saturn - A ringed planet, known for its majestic rings and diverse system of moons. ', 'index': 0, 'logprobs': None, 'finish_reason': 'length'}], 'usage': {'prompt_tokens': 15, 'completion_tokens': 128, 'total_tokens': 143}}\n"
     ]
    },
    {
     "name": "stderr",
     "output_type": "stream",
     "text": [
      "\n",
      "llama_print_timings:        load time =   961.38 ms\n",
      "llama_print_timings:      sample time =    59.73 ms /   128 runs   (    0.47 ms per token,  2142.94 tokens per second)\n",
      "llama_print_timings: prompt eval time =     0.00 ms /     1 tokens (    0.00 ms per token,      inf tokens per second)\n",
      "llama_print_timings:        eval time = 14432.74 ms /   128 runs   (  112.76 ms per token,     8.87 tokens per second)\n",
      "llama_print_timings:       total time = 14760.11 ms\n"
     ]
    }
   ],
   "source": [
    "output = llm(\"Q: Name the planets in the solar system? A: \", stop=[\"Q:\", \"\\n\"], echo=True)\n",
    "print(output)"
   ]
  }
 ],
 "metadata": {
  "kernelspec": {
   "display_name": "Python 3",
   "language": "python",
   "name": "python3"
  },
  "language_info": {
   "codemirror_mode": {
    "name": "ipython",
    "version": 3
   },
   "file_extension": ".py",
   "mimetype": "text/x-python",
   "name": "python",
   "nbconvert_exporter": "python",
   "pygments_lexer": "ipython3",
   "version": "3.9.16"
  },
  "orig_nbformat": 4,
  "vscode": {
   "interpreter": {
    "hash": "31f2aee4e71d21fbe5cf8b01ff0e069b9275f58929596ceb00d14d90e3e16cd6"
   }
  }
 },
 "nbformat": 4,
 "nbformat_minor": 2
}
